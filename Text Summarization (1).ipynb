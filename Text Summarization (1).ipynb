{
 "cells": [
  {
   "cell_type": "code",
   "execution_count": null,
   "id": "58a19748-66ab-48c7-a0b3-b0c19ba6b62f",
   "metadata": {},
   "outputs": [
    {
     "name": "stdout",
     "output_type": "stream",
     "text": [
      "Enter the text you want to summarize (type 'exit' to quit):\n"
     ]
    },
    {
     "name": "stdin",
     "output_type": "stream",
     "text": [
      "\n",
      "Text:  Sure! Here’s a sample paragraph:  The sun dipped below the horizon, casting a warm golden glow across the landscape. As the evening settled in, the air filled with the sweet scent of blooming jasmine, inviting the sounds of chirping crickets and rustling leaves. In the distance, a faint melody drifted from a nearby gathering, mingling with laughter and the soft crackle of a fire. It was a perfect moment, where time seemed to pause, allowing the beauty of nature and the joy of companionship to intertwine, creating a serene escape from the bustle of daily life.\n"
     ]
    },
    {
     "name": "stderr",
     "output_type": "stream",
     "text": [
      "C:\\Users\\Chandan D\\AppData\\Roaming\\Python\\Python312\\site-packages\\huggingface_hub\\file_download.py:1132: FutureWarning: `resume_download` is deprecated and will be removed in version 1.0.0. Downloads always resume when possible. If you want to force a new download, use `force_download=True`.\n",
      "  warnings.warn(\n"
     ]
    },
    {
     "data": {
      "application/vnd.jupyter.widget-view+json": {
       "model_id": "9c6c75911c9444b8812b681c6bcf91a5",
       "version_major": 2,
       "version_minor": 0
      },
      "text/plain": [
       "config.json:   0%|          | 0.00/1.58k [00:00<?, ?B/s]"
      ]
     },
     "metadata": {},
     "output_type": "display_data"
    },
    {
     "name": "stderr",
     "output_type": "stream",
     "text": [
      "C:\\Users\\Chandan D\\AppData\\Roaming\\Python\\Python312\\site-packages\\huggingface_hub\\file_download.py:157: UserWarning: `huggingface_hub` cache-system uses symlinks by default to efficiently store duplicated files but your machine does not support them in C:\\Users\\Chandan D\\.cache\\huggingface\\hub\\models--facebook--bart-large-cnn. Caching files will still work but in a degraded version that might require more space on your disk. This warning can be disabled by setting the `HF_HUB_DISABLE_SYMLINKS_WARNING` environment variable. For more details, see https://huggingface.co/docs/huggingface_hub/how-to-cache#limitations.\n",
      "To support symlinks on Windows, you either need to activate Developer Mode or to run Python as an administrator. In order to see activate developer mode, see this article: https://docs.microsoft.com/en-us/windows/apps/get-started/enable-your-device-for-development\n",
      "  warnings.warn(message)\n"
     ]
    },
    {
     "name": "stdout",
     "output_type": "stream",
     "text": [
      "WARNING:tensorflow:From C:\\Users\\Chandan D\\AppData\\Roaming\\Python\\Python312\\site-packages\\tf_keras\\src\\losses.py:2976: The name tf.losses.sparse_softmax_cross_entropy is deprecated. Please use tf.compat.v1.losses.sparse_softmax_cross_entropy instead.\n",
      "\n"
     ]
    },
    {
     "data": {
      "application/vnd.jupyter.widget-view+json": {
       "model_id": "b33db0fdd6774228b47146574fa67c7e",
       "version_major": 2,
       "version_minor": 0
      },
      "text/plain": [
       "model.safetensors:   0%|          | 0.00/1.63G [00:00<?, ?B/s]"
      ]
     },
     "metadata": {},
     "output_type": "display_data"
    },
    {
     "data": {
      "application/vnd.jupyter.widget-view+json": {
       "model_id": "1611b220c178445a842c6ca8102531dd",
       "version_major": 2,
       "version_minor": 0
      },
      "text/plain": [
       "generation_config.json:   0%|          | 0.00/363 [00:00<?, ?B/s]"
      ]
     },
     "metadata": {},
     "output_type": "display_data"
    },
    {
     "data": {
      "application/vnd.jupyter.widget-view+json": {
       "model_id": "7a1f8f7705b84e2a86f04c742ee91dc3",
       "version_major": 2,
       "version_minor": 0
      },
      "text/plain": [
       "vocab.json:   0%|          | 0.00/899k [00:00<?, ?B/s]"
      ]
     },
     "metadata": {},
     "output_type": "display_data"
    },
    {
     "data": {
      "application/vnd.jupyter.widget-view+json": {
       "model_id": "63a73cf04d8d4e43ac5ed127588b96b7",
       "version_major": 2,
       "version_minor": 0
      },
      "text/plain": [
       "merges.txt:   0%|          | 0.00/456k [00:00<?, ?B/s]"
      ]
     },
     "metadata": {},
     "output_type": "display_data"
    },
    {
     "data": {
      "application/vnd.jupyter.widget-view+json": {
       "model_id": "11ef3ec1d1b34b2383b3bdffdc5700cf",
       "version_major": 2,
       "version_minor": 0
      },
      "text/plain": [
       "tokenizer.json:   0%|          | 0.00/1.36M [00:00<?, ?B/s]"
      ]
     },
     "metadata": {},
     "output_type": "display_data"
    },
    {
     "name": "stderr",
     "output_type": "stream",
     "text": [
      "Your max_length is set to 130, but your input_length is only 129. Since this is a summarization task, where outputs shorter than the input are typically wanted, you might consider decreasing max_length manually, e.g. summarizer('...', max_length=64)\n"
     ]
    },
    {
     "name": "stdout",
     "output_type": "stream",
     "text": [
      "\n",
      "Summary:\n",
      " The author of the book has written a short story about a perfect moment in nature. The author describes a moment where time seemed to pause, allowing the beauty of nature and the joy of companionship to intertwine.\n"
     ]
    },
    {
     "name": "stdin",
     "output_type": "stream",
     "text": [
      "\n",
      "Text:  Sure! Here’s another sample paragraph:  The old library stood at the corner of Maple Street, its weathered facade telling stories of decades gone by. Inside, the scent of aged paper and polished wood enveloped visitors in a comforting embrace. Tall shelves, filled with books of every genre, seemed to whisper secrets of adventure and knowledge. Sunlight streamed through stained glass windows, casting colorful patterns on the worn carpet. In a quiet nook, a young girl lost herself in a novel, her imagination taking flight as she journeyed to distant lands, her worries fading away in the pages of her newfound treasure.\n"
     ]
    },
    {
     "name": "stderr",
     "output_type": "stream",
     "text": [
      "Your max_length is set to 130, but your input_length is only 127. Since this is a summarization task, where outputs shorter than the input are typically wanted, you might consider decreasing max_length manually, e.g. summarizer('...', max_length=63)\n"
     ]
    },
    {
     "name": "stdout",
     "output_type": "stream",
     "text": [
      "\n",
      "Summary:\n",
      " The old library stood at the corner of Maple Street, its weathered facade telling stories of decades gone by. In a quiet nook, a young girl lost herself in a novel, her imagination taking flight as she journeyed to distant lands.\n"
     ]
    },
    {
     "name": "stdin",
     "output_type": "stream",
     "text": [
      "\n",
      "Text:  In the heart of the bustling city, a small park provided a tranquil escape from the urban chaos. Towering oak trees offered a canopy of shade, their leaves rustling gently in the warm breeze. Benches dotted the pathways, where people paused to enjoy a moment of peace amid their busy lives. Children played on the grassy lawns, their laughter echoing as they chased one another, while a couple strolled hand in hand, sharing whispered secrets. Nearby, an artist captured the scene on canvas, his brush strokes reflecting the vibrant energy of the park. The air was filled with the sweet scent of blooming flowers and the distant sound of a fountain splashing, creating a soothing symphony of nature. As the sun began to set, casting a golden hue over the landscape, the park transformed into a haven of warmth and connection, reminding everyone of the beauty that can be found in simple moments.\n"
     ]
    }
   ],
   "source": [
    "from transformers import pipeline\n",
    "\n",
    "class TextSummarizer:\n",
    "    def __init__(self, model_name=\"facebook/bart-large-cnn\"):\n",
    "        # Load the text summarization pipeline with the specified model\n",
    "        self.summarizer = pipeline(\"summarization\", model=model_name)\n",
    "\n",
    "    def summarize(self, text, max_length=130, min_length=30, do_sample=False):\n",
    "        \"\"\"Summarize the provided text.\"\"\"\n",
    "        return self.summarizer(text, max_length=max_length, min_length=min_length, do_sample=do_sample)\n",
    "\n",
    "def main():\n",
    "    # Prompt user for input text\n",
    "    print(\"Enter the text you want to summarize (type 'exit' to quit):\")\n",
    "    \n",
    "    while True:\n",
    "        user_input = input(\"\\nText: \")\n",
    "        if user_input.lower() == 'exit':\n",
    "            print(\"Exiting the summarization tool.\")\n",
    "            break\n",
    "\n",
    "        # Initialize the Text Summarizer\n",
    "        text_summarizer = TextSummarizer()\n",
    "\n",
    "        # Summarize the input text\n",
    "        summary = text_summarizer.summarize(user_input)\n",
    "\n",
    "        # Print the summary\n",
    "        print(\"\\nSummary:\\n\", summary[0]['summary_text'])\n",
    "\n",
    "if __name__ == \"__main__\":\n",
    "    main()\n"
   ]
  },
  {
   "cell_type": "code",
   "execution_count": null,
   "id": "617cb3fd-e3a0-4b29-9b8c-c10cf00dd4e0",
   "metadata": {},
   "outputs": [],
   "source": []
  }
 ],
 "metadata": {
  "kernelspec": {
   "display_name": "Python 3 (ipykernel)",
   "language": "python",
   "name": "python3"
  },
  "language_info": {
   "codemirror_mode": {
    "name": "ipython",
    "version": 3
   },
   "file_extension": ".py",
   "mimetype": "text/x-python",
   "name": "python",
   "nbconvert_exporter": "python",
   "pygments_lexer": "ipython3",
   "version": "3.12.4"
  }
 },
 "nbformat": 4,
 "nbformat_minor": 5
}
